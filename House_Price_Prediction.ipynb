{
 "cells": [
  {
   "cell_type": "code",
   "execution_count": 1,
   "id": "c97c7645-e757-4406-a5a0-64fea60e2573",
   "metadata": {},
   "outputs": [],
   "source": [
    "#importing libraries\n",
    "import numpy as np\n",
    "import pandas as pd\n",
    "import matplotlib.pyplot as plt\n",
    "import seaborn as sns"
   ]
  },
  {
   "cell_type": "code",
   "execution_count": 2,
   "id": "68d45e2f-9523-4262-b088-282ca5f5c52b",
   "metadata": {},
   "outputs": [],
   "source": [
    "#loading dataset\n",
    "df = pd.read_csv('data/Bengaluru_House_Data.csv')"
   ]
  },
  {
   "cell_type": "code",
   "execution_count": 3,
   "id": "36ec2702-0fc7-4a93-b3a1-0dd1a9710f4d",
   "metadata": {},
   "outputs": [
    {
     "data": {
      "text/html": [
       "<div>\n",
       "<style scoped>\n",
       "    .dataframe tbody tr th:only-of-type {\n",
       "        vertical-align: middle;\n",
       "    }\n",
       "\n",
       "    .dataframe tbody tr th {\n",
       "        vertical-align: top;\n",
       "    }\n",
       "\n",
       "    .dataframe thead th {\n",
       "        text-align: right;\n",
       "    }\n",
       "</style>\n",
       "<table border=\"1\" class=\"dataframe\">\n",
       "  <thead>\n",
       "    <tr style=\"text-align: right;\">\n",
       "      <th></th>\n",
       "      <th>area_type</th>\n",
       "      <th>availability</th>\n",
       "      <th>location</th>\n",
       "      <th>size</th>\n",
       "      <th>society</th>\n",
       "      <th>total_sqft</th>\n",
       "      <th>bath</th>\n",
       "      <th>balcony</th>\n",
       "      <th>price</th>\n",
       "    </tr>\n",
       "  </thead>\n",
       "  <tbody>\n",
       "    <tr>\n",
       "      <th>3693</th>\n",
       "      <td>Built-up  Area</td>\n",
       "      <td>Ready To Move</td>\n",
       "      <td>Babusapalaya</td>\n",
       "      <td>3 BHK</td>\n",
       "      <td>NaN</td>\n",
       "      <td>1453</td>\n",
       "      <td>2.0</td>\n",
       "      <td>2.0</td>\n",
       "      <td>43.59</td>\n",
       "    </tr>\n",
       "    <tr>\n",
       "      <th>5263</th>\n",
       "      <td>Super built-up  Area</td>\n",
       "      <td>Ready To Move</td>\n",
       "      <td>Amruthahalli</td>\n",
       "      <td>3 BHK</td>\n",
       "      <td>NaN</td>\n",
       "      <td>1350</td>\n",
       "      <td>2.0</td>\n",
       "      <td>3.0</td>\n",
       "      <td>63.00</td>\n",
       "    </tr>\n",
       "    <tr>\n",
       "      <th>4019</th>\n",
       "      <td>Plot  Area</td>\n",
       "      <td>Ready To Move</td>\n",
       "      <td>Yelachenahalli</td>\n",
       "      <td>5 Bedroom</td>\n",
       "      <td>NaN</td>\n",
       "      <td>897</td>\n",
       "      <td>2.0</td>\n",
       "      <td>1.0</td>\n",
       "      <td>85.00</td>\n",
       "    </tr>\n",
       "    <tr>\n",
       "      <th>12325</th>\n",
       "      <td>Super built-up  Area</td>\n",
       "      <td>Ready To Move</td>\n",
       "      <td>LIC Colony</td>\n",
       "      <td>2 BHK</td>\n",
       "      <td>NaN</td>\n",
       "      <td>1200</td>\n",
       "      <td>2.0</td>\n",
       "      <td>1.0</td>\n",
       "      <td>115.00</td>\n",
       "    </tr>\n",
       "    <tr>\n",
       "      <th>3409</th>\n",
       "      <td>Super built-up  Area</td>\n",
       "      <td>Ready To Move</td>\n",
       "      <td>Indira Nagar 3rd Stage</td>\n",
       "      <td>3 BHK</td>\n",
       "      <td>NaN</td>\n",
       "      <td>1740</td>\n",
       "      <td>3.0</td>\n",
       "      <td>2.0</td>\n",
       "      <td>199.00</td>\n",
       "    </tr>\n",
       "  </tbody>\n",
       "</table>\n",
       "</div>"
      ],
      "text/plain": [
       "                  area_type   availability                location       size  \\\n",
       "3693         Built-up  Area  Ready To Move            Babusapalaya      3 BHK   \n",
       "5263   Super built-up  Area  Ready To Move            Amruthahalli      3 BHK   \n",
       "4019             Plot  Area  Ready To Move          Yelachenahalli  5 Bedroom   \n",
       "12325  Super built-up  Area  Ready To Move              LIC Colony      2 BHK   \n",
       "3409   Super built-up  Area  Ready To Move  Indira Nagar 3rd Stage      3 BHK   \n",
       "\n",
       "      society total_sqft  bath  balcony   price  \n",
       "3693      NaN       1453   2.0      2.0   43.59  \n",
       "5263      NaN       1350   2.0      3.0   63.00  \n",
       "4019      NaN        897   2.0      1.0   85.00  \n",
       "12325     NaN       1200   2.0      1.0  115.00  \n",
       "3409      NaN       1740   3.0      2.0  199.00  "
      ]
     },
     "execution_count": 3,
     "metadata": {},
     "output_type": "execute_result"
    }
   ],
   "source": [
    "df.sample(5)"
   ]
  },
  {
   "cell_type": "code",
   "execution_count": 4,
   "id": "6abf17b9-54a3-4902-b525-bf32fb6e6892",
   "metadata": {},
   "outputs": [
    {
     "data": {
      "text/plain": [
       "(13320, 9)"
      ]
     },
     "execution_count": 4,
     "metadata": {},
     "output_type": "execute_result"
    }
   ],
   "source": [
    "df.shape"
   ]
  },
  {
   "cell_type": "code",
   "execution_count": 5,
   "id": "23e98d88-517b-44fb-ad44-074e700abf39",
   "metadata": {},
   "outputs": [
    {
     "name": "stdout",
     "output_type": "stream",
     "text": [
      "<class 'pandas.core.frame.DataFrame'>\n",
      "RangeIndex: 13320 entries, 0 to 13319\n",
      "Data columns (total 9 columns):\n",
      " #   Column        Non-Null Count  Dtype  \n",
      "---  ------        --------------  -----  \n",
      " 0   area_type     13320 non-null  object \n",
      " 1   availability  13320 non-null  object \n",
      " 2   location      13319 non-null  object \n",
      " 3   size          13304 non-null  object \n",
      " 4   society       7818 non-null   object \n",
      " 5   total_sqft    13320 non-null  object \n",
      " 6   bath          13247 non-null  float64\n",
      " 7   balcony       12711 non-null  float64\n",
      " 8   price         13320 non-null  float64\n",
      "dtypes: float64(3), object(6)\n",
      "memory usage: 936.7+ KB\n"
     ]
    }
   ],
   "source": [
    "df.info()"
   ]
  },
  {
   "cell_type": "code",
   "execution_count": 6,
   "id": "c6388d0b-ef7f-47a6-a929-c7646dbdee30",
   "metadata": {},
   "outputs": [
    {
     "data": {
      "text/plain": [
       "area_type          0\n",
       "availability       0\n",
       "location           1\n",
       "size              16\n",
       "society         5502\n",
       "total_sqft         0\n",
       "bath              73\n",
       "balcony          609\n",
       "price              0\n",
       "dtype: int64"
      ]
     },
     "execution_count": 6,
     "metadata": {},
     "output_type": "execute_result"
    }
   ],
   "source": [
    "df.isnull().sum()"
   ]
  },
  {
   "cell_type": "code",
   "execution_count": 7,
   "id": "547e9dd7-213d-49c1-a00a-db5bb34dceff",
   "metadata": {},
   "outputs": [
    {
     "data": {
      "text/plain": [
       "area_type        0.000000\n",
       "availability     0.000000\n",
       "location         0.007508\n",
       "size             0.120120\n",
       "society         41.306306\n",
       "total_sqft       0.000000\n",
       "bath             0.548048\n",
       "balcony          4.572072\n",
       "price            0.000000\n",
       "dtype: float64"
      ]
     },
     "execution_count": 7,
     "metadata": {},
     "output_type": "execute_result"
    }
   ],
   "source": [
    "#percentage missing in cols\n",
    "(df.isnull().sum() / df.shape[0]) * 100"
   ]
  },
  {
   "cell_type": "code",
   "execution_count": 8,
   "id": "00b515b1-70fa-4215-a5f8-49eb870723da",
   "metadata": {},
   "outputs": [],
   "source": [
    "#since society have 41% missing value so this feature will get droped\n",
    "df.drop(columns=['society'],inplace=True)"
   ]
  },
  {
   "cell_type": "code",
   "execution_count": 9,
   "id": "ceb3567c-e438-4185-a60e-7fc835906caa",
   "metadata": {},
   "outputs": [
    {
     "data": {
      "text/plain": [
       "area_type          4\n",
       "availability      81\n",
       "location        1305\n",
       "size              31\n",
       "total_sqft      2117\n",
       "bath              19\n",
       "balcony            4\n",
       "price           1994\n",
       "dtype: int64"
      ]
     },
     "execution_count": 9,
     "metadata": {},
     "output_type": "execute_result"
    }
   ],
   "source": [
    "#checking unique values in all columns\n",
    "df.nunique()"
   ]
  },
  {
   "cell_type": "code",
   "execution_count": 10,
   "id": "11683906-61e9-499e-8d61-72c58de195ed",
   "metadata": {
    "scrolled": true
   },
   "outputs": [
    {
     "name": "stdout",
     "output_type": "stream",
     "text": [
      "area_type\n",
      "Super built-up  Area    65.990991\n",
      "Built-up  Area          18.153153\n",
      "Plot  Area              15.202703\n",
      "Carpet  Area             0.653153\n",
      "Name: count, dtype: float64\n",
      "availability\n",
      "Ready To Move    79.436937\n",
      "18-Dec            2.304805\n",
      "18-May            2.214715\n",
      "18-Apr            2.034535\n",
      "18-Aug            1.501502\n",
      "                   ...    \n",
      "15-Aug            0.007508\n",
      "17-Jan            0.007508\n",
      "16-Nov            0.007508\n",
      "16-Jan            0.007508\n",
      "14-Jul            0.007508\n",
      "Name: count, Length: 81, dtype: float64\n",
      "location\n",
      "Whitefield                        4.054054\n",
      "Sarjapur  Road                    2.995495\n",
      "Electronic City                   2.267267\n",
      "Kanakpura Road                    2.049550\n",
      "Thanisandra                       1.756757\n",
      "                                    ...   \n",
      "Bapuji Layout                     0.007508\n",
      "1st Stage Radha Krishna Layout    0.007508\n",
      "BEML Layout 5th stage             0.007508\n",
      "singapura paradise                0.007508\n",
      "Abshot Layout                     0.007508\n",
      "Name: count, Length: 1305, dtype: float64\n",
      "size\n",
      "2 BHK         39.031532\n",
      "3 BHK         32.357357\n",
      "4 Bedroom      6.201201\n",
      "4 BHK          4.436937\n",
      "3 Bedroom      4.106607\n",
      "1 BHK          4.039039\n",
      "2 Bedroom      2.469970\n",
      "5 Bedroom      2.229730\n",
      "6 Bedroom      1.433934\n",
      "1 Bedroom      0.788288\n",
      "8 Bedroom      0.630631\n",
      "7 Bedroom      0.623123\n",
      "5 BHK          0.442943\n",
      "9 Bedroom      0.345345\n",
      "6 BHK          0.225225\n",
      "7 BHK          0.127628\n",
      "1 RK           0.097598\n",
      "10 Bedroom     0.090090\n",
      "9 BHK          0.060060\n",
      "8 BHK          0.037538\n",
      "11 BHK         0.015015\n",
      "11 Bedroom     0.015015\n",
      "10 BHK         0.015015\n",
      "14 BHK         0.007508\n",
      "13 BHK         0.007508\n",
      "12 Bedroom     0.007508\n",
      "27 BHK         0.007508\n",
      "43 Bedroom     0.007508\n",
      "16 BHK         0.007508\n",
      "19 BHK         0.007508\n",
      "18 Bedroom     0.007508\n",
      "Name: count, dtype: float64\n",
      "total_sqft\n",
      "1200    6.328829\n",
      "1100    1.659159\n",
      "1500    1.539039\n",
      "2400    1.471471\n",
      "600     1.351351\n",
      "          ...   \n",
      "3580    0.007508\n",
      "2461    0.007508\n",
      "1437    0.007508\n",
      "2155    0.007508\n",
      "4689    0.007508\n",
      "Name: count, Length: 2117, dtype: float64\n",
      "bath\n",
      "2.0     51.861862\n",
      "3.0     24.669670\n",
      "4.0      9.204204\n",
      "1.0      5.915916\n",
      "5.0      3.933934\n",
      "6.0      2.049550\n",
      "7.0      0.765766\n",
      "8.0      0.480480\n",
      "9.0      0.322823\n",
      "10.0     0.097598\n",
      "12.0     0.052553\n",
      "13.0     0.022523\n",
      "11.0     0.022523\n",
      "16.0     0.015015\n",
      "27.0     0.007508\n",
      "40.0     0.007508\n",
      "15.0     0.007508\n",
      "14.0     0.007508\n",
      "18.0     0.007508\n",
      "Name: count, dtype: float64\n",
      "balcony\n",
      "2.0    38.385886\n",
      "1.0    36.764264\n",
      "3.0    12.552553\n",
      "0.0     7.725225\n",
      "Name: count, dtype: float64\n",
      "price\n",
      "75.00     2.327327\n",
      "65.00     2.267267\n",
      "55.00     2.064565\n",
      "60.00     2.027027\n",
      "45.00     1.801802\n",
      "            ...   \n",
      "351.00    0.007508\n",
      "54.10     0.007508\n",
      "80.64     0.007508\n",
      "32.73     0.007508\n",
      "488.00    0.007508\n",
      "Name: count, Length: 1994, dtype: float64\n"
     ]
    }
   ],
   "source": [
    "for cols in df.columns:\n",
    "    print((df[cols].value_counts()/df.shape[0])*100)"
   ]
  },
  {
   "cell_type": "code",
   "execution_count": 11,
   "id": "1d4824f1-5d84-4583-8dea-37b4cd1052f4",
   "metadata": {},
   "outputs": [
    {
     "data": {
      "image/png": "[encoded data removed]",
      "text/plain": [
       "<Figure size 640x480 with 1 Axes>"
      ]
     },
     "metadata": {},
     "output_type": "display_data"
    }
   ],
   "source": [
    "df['area_type'].value_counts().plot.pie(autopct='%.2f',shadow=True,startangle=90,wedgeprops={'edgecolor':'black'},rotatelabels=True)\n",
    "plt.show()"
   ]
  },
  {
   "cell_type": "code",
   "execution_count": 12,
   "id": "19b2a89d-da31-4d0f-ae25-e8d433715054",
   "metadata": {},
   "outputs": [
    {
     "data": {
      "image/png": "[encoded data removed]",
      "text/plain": [
       "<Figure size 2000x500 with 4 Axes>"
      ]
     },
     "metadata": {},
     "output_type": "display_data"
    }
   ],
   "source": [
    "sns.displot(df, x=\"price\", col=\"area_type\", kde=True, col_wrap=4)\n",
    "plt.show()"
   ]
  },
  {
   "cell_type": "code",
   "execution_count": 13,
   "id": "67841fe1-6f5e-48db-aeea-9e17300e649e",
   "metadata": {},
   "outputs": [],
   "source": [
    "# area_type have 4 categories out of which one is 66% and also probablity density function of\n",
    "# all four category is almost same so droping this feature\n",
    "df.drop(columns=['area_type'],inplace=True)"
   ]
  },
  {
   "cell_type": "code",
   "execution_count": 14,
   "id": "61d44e68-a38c-4e08-afb0-58421723d681",
   "metadata": {
    "scrolled": true
   },
   "outputs": [
    {
     "data": {
      "text/plain": [
       "availability\n",
       "Ready To Move    79.436937\n",
       "18-Dec            2.304805\n",
       "18-May            2.214715\n",
       "18-Apr            2.034535\n",
       "18-Aug            1.501502\n",
       "                   ...    \n",
       "15-Aug            0.007508\n",
       "17-Jan            0.007508\n",
       "16-Nov            0.007508\n",
       "16-Jan            0.007508\n",
       "14-Jul            0.007508\n",
       "Name: count, Length: 81, dtype: float64"
      ]
     },
     "execution_count": 14,
     "metadata": {},
     "output_type": "execute_result"
    }
   ],
   "source": [
    "(df['availability'].value_counts()/df.shape[0])*100"
   ]
  },
  {
   "cell_type": "code",
   "execution_count": 15,
   "id": "b3b17725-3423-412f-992d-3566a1cfa2eb",
   "metadata": {},
   "outputs": [],
   "source": [
    "# availability have 81 categories but one value is around 80% so this feature is not usefull\n",
    "df.drop(columns=['availability'],inplace=True)"
   ]
  },
  {
   "cell_type": "code",
   "execution_count": 16,
   "id": "466c0fb7-09de-41f2-8504-5f9a5fd0ba67",
   "metadata": {},
   "outputs": [
    {
     "data": {
      "text/html": [
       "<div>\n",
       "<style scoped>\n",
       "    .dataframe tbody tr th:only-of-type {\n",
       "        vertical-align: middle;\n",
       "    }\n",
       "\n",
       "    .dataframe tbody tr th {\n",
       "        vertical-align: top;\n",
       "    }\n",
       "\n",
       "    .dataframe thead th {\n",
       "        text-align: right;\n",
       "    }\n",
       "</style>\n",
       "<table border=\"1\" class=\"dataframe\">\n",
       "  <thead>\n",
       "    <tr style=\"text-align: right;\">\n",
       "      <th></th>\n",
       "      <th>location</th>\n",
       "      <th>size</th>\n",
       "      <th>total_sqft</th>\n",
       "      <th>bath</th>\n",
       "      <th>balcony</th>\n",
       "      <th>price</th>\n",
       "    </tr>\n",
       "  </thead>\n",
       "  <tbody>\n",
       "    <tr>\n",
       "      <th>4128</th>\n",
       "      <td>Panduranga Nagar</td>\n",
       "      <td>3 BHK</td>\n",
       "      <td>1827</td>\n",
       "      <td>3.0</td>\n",
       "      <td>3.0</td>\n",
       "      <td>100.0</td>\n",
       "    </tr>\n",
       "    <tr>\n",
       "      <th>2031</th>\n",
       "      <td>Sir M V Nagar</td>\n",
       "      <td>7 Bedroom</td>\n",
       "      <td>4400</td>\n",
       "      <td>9.0</td>\n",
       "      <td>NaN</td>\n",
       "      <td>120.0</td>\n",
       "    </tr>\n",
       "    <tr>\n",
       "      <th>5740</th>\n",
       "      <td>1st Block HRBR Layout</td>\n",
       "      <td>3 Bedroom</td>\n",
       "      <td>600</td>\n",
       "      <td>3.0</td>\n",
       "      <td>1.0</td>\n",
       "      <td>90.0</td>\n",
       "    </tr>\n",
       "  </tbody>\n",
       "</table>\n",
       "</div>"
      ],
      "text/plain": [
       "                   location       size total_sqft  bath  balcony  price\n",
       "4128       Panduranga Nagar      3 BHK       1827   3.0      3.0  100.0\n",
       "2031          Sir M V Nagar  7 Bedroom       4400   9.0      NaN  120.0\n",
       "5740  1st Block HRBR Layout  3 Bedroom        600   3.0      1.0   90.0"
      ]
     },
     "execution_count": 16,
     "metadata": {},
     "output_type": "execute_result"
    }
   ],
   "source": [
    "df.sample(3)"
   ]
  },
  {
   "cell_type": "code",
   "execution_count": 17,
   "id": "ae7588a8-903b-4a30-a1eb-dafac84f757e",
   "metadata": {},
   "outputs": [
    {
     "data": {
      "text/plain": [
       "location\n",
       "Whitefield                        540\n",
       "Sarjapur  Road                    399\n",
       "Electronic City                   302\n",
       "Kanakpura Road                    273\n",
       "Thanisandra                       234\n",
       "                                 ... \n",
       "Bapuji Layout                       1\n",
       "1st Stage Radha Krishna Layout      1\n",
       "BEML Layout 5th stage               1\n",
       "singapura paradise                  1\n",
       "Abshot Layout                       1\n",
       "Name: count, Length: 1305, dtype: int64"
      ]
     },
     "execution_count": 17,
     "metadata": {},
     "output_type": "execute_result"
    }
   ],
   "source": [
    "df['location'].value_counts()"
   ]
  },
  {
   "cell_type": "code",
   "execution_count": 18,
   "id": "98f54ffe-0606-4967-9359-b5d373508a4c",
   "metadata": {},
   "outputs": [
    {
     "data": {
      "text/plain": [
       "1"
      ]
     },
     "execution_count": 18,
     "metadata": {},
     "output_type": "execute_result"
    }
   ],
   "source": [
    "df['location'].isna().sum()"
   ]
  },
  {
   "cell_type": "code",
   "execution_count": 19,
   "id": "19e83b9a-2ef6-4725-b145-7f1e83aa3771",
   "metadata": {},
   "outputs": [],
   "source": [
    "#filling missing value with mode\n",
    "df['location'] = df['location'].fillna('Whitefield')"
   ]
  },
  {
   "cell_type": "code",
   "execution_count": 20,
   "id": "ae8f4b76-7086-4356-be22-a0106661476e",
   "metadata": {},
   "outputs": [
    {
     "data": {
      "text/plain": [
       "1305"
      ]
     },
     "execution_count": 20,
     "metadata": {},
     "output_type": "execute_result"
    }
   ],
   "source": [
    "df['location'].nunique()"
   ]
  },
  {
   "cell_type": "code",
   "execution_count": 22,
   "id": "9ea22490-4413-4166-a3f9-285528a45b8d",
   "metadata": {},
   "outputs": [],
   "source": [
    "location_counts = df['location'].value_counts()"
   ]
  },
  {
   "cell_type": "code",
   "execution_count": 23,
   "id": "9df9d64a-c226-4dc6-bc4a-3a503d244ab3",
   "metadata": {},
   "outputs": [
    {
     "data": {
      "text/plain": [
       "1064"
      ]
     },
     "execution_count": 23,
     "metadata": {},
     "output_type": "execute_result"
    }
   ],
   "source": [
    "len(location_counts[location_counts<=10])"
   ]
  },
  {
   "cell_type": "code",
   "execution_count": 24,
   "id": "48c33aa2-dfa8-4521-bf21-de93df9c66ac",
   "metadata": {},
   "outputs": [
    {
     "data": {
      "text/plain": [
       "241"
      ]
     },
     "execution_count": 24,
     "metadata": {},
     "output_type": "execute_result"
    }
   ],
   "source": [
    "len(location_counts[location_counts>10])"
   ]
  },
  {
   "cell_type": "code",
   "execution_count": 25,
   "id": "17a39954-7a66-441d-9563-f863431dcbbd",
   "metadata": {},
   "outputs": [],
   "source": [
    "# There are 1064 locations with 10 or fewer occurrences.\n",
    "# To reduce the number of unique categories, these locations will be grouped under a new category named \"other\".\n",
    "df['location'] = df['location'].apply(lambda x:'other' if location_counts[x]<=10 else x)"
   ]
  },
  {
   "cell_type": "code",
   "execution_count": 27,
   "id": "09032dce-99a0-4986-ba49-bb1a3a8c7fee",
   "metadata": {},
   "outputs": [
    {
     "data": {
      "text/plain": [
       "242"
      ]
     },
     "execution_count": 27,
     "metadata": {},
     "output_type": "execute_result"
    }
   ],
   "source": [
    "df['location'].nunique()"
   ]
  },
  {
   "cell_type": "markdown",
   "id": "199f1d55-18b8-4475-82e7-df5b3e1a9bee",
   "metadata": {},
   "source": [
    "now there are only 242 categories "
   ]
  },
  {
   "cell_type": "code",
   "execution_count": 28,
   "id": "1d1d649d-0bef-4d39-8618-c624e8e3bec8",
   "metadata": {},
   "outputs": [
    {
     "data": {
      "text/html": [
       "<div>\n",
       "<style scoped>\n",
       "    .dataframe tbody tr th:only-of-type {\n",
       "        vertical-align: middle;\n",
       "    }\n",
       "\n",
       "    .dataframe tbody tr th {\n",
       "        vertical-align: top;\n",
       "    }\n",
       "\n",
       "    .dataframe thead th {\n",
       "        text-align: right;\n",
       "    }\n",
       "</style>\n",
       "<table border=\"1\" class=\"dataframe\">\n",
       "  <thead>\n",
       "    <tr style=\"text-align: right;\">\n",
       "      <th></th>\n",
       "      <th>location</th>\n",
       "      <th>size</th>\n",
       "      <th>total_sqft</th>\n",
       "      <th>bath</th>\n",
       "      <th>balcony</th>\n",
       "      <th>price</th>\n",
       "    </tr>\n",
       "  </thead>\n",
       "  <tbody>\n",
       "    <tr>\n",
       "      <th>13236</th>\n",
       "      <td>JP Nagar</td>\n",
       "      <td>2 BHK</td>\n",
       "      <td>1048</td>\n",
       "      <td>2.0</td>\n",
       "      <td>1.0</td>\n",
       "      <td>44.0</td>\n",
       "    </tr>\n",
       "    <tr>\n",
       "      <th>1788</th>\n",
       "      <td>Electronic City</td>\n",
       "      <td>3 BHK</td>\n",
       "      <td>1360</td>\n",
       "      <td>2.0</td>\n",
       "      <td>1.0</td>\n",
       "      <td>75.0</td>\n",
       "    </tr>\n",
       "    <tr>\n",
       "      <th>8583</th>\n",
       "      <td>Badavala Nagar</td>\n",
       "      <td>3 BHK</td>\n",
       "      <td>1842</td>\n",
       "      <td>3.0</td>\n",
       "      <td>2.0</td>\n",
       "      <td>115.0</td>\n",
       "    </tr>\n",
       "  </tbody>\n",
       "</table>\n",
       "</div>"
      ],
      "text/plain": [
       "              location   size total_sqft  bath  balcony  price\n",
       "13236         JP Nagar  2 BHK       1048   2.0      1.0   44.0\n",
       "1788   Electronic City  3 BHK       1360   2.0      1.0   75.0\n",
       "8583    Badavala Nagar  3 BHK       1842   3.0      2.0  115.0"
      ]
     },
     "execution_count": 28,
     "metadata": {},
     "output_type": "execute_result"
    }
   ],
   "source": [
    "df.sample(3)"
   ]
  },
  {
   "cell_type": "code",
   "execution_count": null,
   "id": "ec068a26-bbeb-4a67-aeff-920bcecc376a",
   "metadata": {},
   "outputs": [],
   "source": []
  }
 ],
 "metadata": {
  "kernelspec": {
   "display_name": "Python 3 (ipykernel)",
   "language": "python",
   "name": "python3"
  },
  "language_info": {
   "codemirror_mode": {
    "name": "ipython",
    "version": 3
   },
   "file_extension": ".py",
   "mimetype": "text/x-python",
   "name": "python",
   "nbconvert_exporter": "python",
   "pygments_lexer": "ipython3",
   "version": "3.12.4"
  }
 },
 "nbformat": 4,
 "nbformat_minor": 5
}
